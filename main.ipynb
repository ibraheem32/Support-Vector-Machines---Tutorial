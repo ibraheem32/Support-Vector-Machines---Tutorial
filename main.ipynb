{
 "cells": [
  {
   "cell_type": "code",
   "execution_count": null,
   "metadata": {},
   "outputs": [],
   "source": [
    "# Importing libraries\n",
    "import numpy as np\n",
    "import pandas as pd\n",
    "import matplotlib.pyplot as plt\n",
    "import seaborn as sns\n",
    "from sklearn.model_selection import train_test_split\n",
    "from sklearn.svm import SVC\n",
    "from sklearn.metrics import accuracy_score, classification_report, confusion_matrix"
   ]
  },
  {
   "cell_type": "code",
   "execution_count": null,
   "metadata": {},
   "outputs": [],
   "source": [
    "# Loading the dataset from the UCI repository (Banknote Authentication Dataset)\n",
    "url = \"https://archive.ics.uci.edu/ml/machine-learning-databases/00267/data_banknote_authentication.txt\"\n",
    "columns = [\"Variance\", \"Skewness\", \"Curtosis\", \"Entropy\", \"Class\"]\n",
    "df = pd.read_csv(url, header=None, names=columns)\n",
    "print(\"Dataset Preview:\")\n",
    "print(df.head())\n",
    "\n",
    "# Splitting features and target variable\n",
    "X = df.drop(columns=[\"Class\"])\n",
    "y = df[\"Class\"]\n",
    "\n",
    "# Splitting into training and testing (80% train, 20% test)\n",
    "X_train, X_test, y_train, y_test = train_test_split(X, y, test_size=0.2, random_state=42, stratify=y)"
   ]
  },
  {
   "cell_type": "code",
   "execution_count": null,
   "metadata": {},
   "outputs": [],
   "source": [
    "# Train SVM models with different kernels\n",
    "kernels = ['linear', 'poly', 'rbf']\n",
    "models = {}\n",
    "models_2d = {}  # New dictionary for 2D visualization models"
   ]
  },
  {
   "cell_type": "code",
   "execution_count": null,
   "metadata": {},
   "outputs": [],
   "source": [
    "# Create 2D versions of the datasets using the first two features for visualization\n",
    "X_train_2d = X_train.iloc[:, :2]\n",
    "X_test_2d = X_test.iloc[:, :2]\n",
    "\n",
    "for kernel in kernels:\n",
    "    # Configure model parameters based on kernel type\n",
    "    if kernel == 'poly':\n",
    "        model = SVC(kernel=kernel, degree=3, gamma='auto', C=1.0)\n",
    "        model_2d = SVC(kernel=kernel, degree=3, gamma='auto', C=1.0)\n",
    "    else:\n",
    "        model = SVC(kernel=kernel, gamma='auto', C=1.0)\n",
    "        model_2d = SVC(kernel=kernel, gamma='auto', C=1.0)\n",
    "    \n",
    "    # Train models on full features and 2D subset for visualization\n",
    "    model.fit(X_train, y_train)\n",
    "    model_2d.fit(X_train_2d, y_train)\n",
    "    \n",
    "    models[kernel] = model\n",
    "    models_2d[kernel] = model_2d\n",
    "    \n",
    "    # Evaluate model accuracy on the test set\n",
    "    y_pred = model.predict(X_test)\n",
    "    acc = accuracy_score(y_test, y_pred)\n",
    "    print(f\"Kernel: {kernel} | Accuracy: {acc:.4f}\")"
   ]
  },
  {
   "cell_type": "code",
   "execution_count": null,
   "metadata": {},
   "outputs": [],
   "source": [
    "# Ensure color-blind friendly palettes and accessible visualizations\n",
    "sns.set_palette(\"colorblind\")\n",
    "sns.set_style(\"whitegrid\")\n",
    "\n",
    "# Function to visualize decision boundaries for 2D data\n",
    "def plot_decision_boundary(model, X, y, title):\n",
    "    # Only works if the data has 2 features\n",
    "    if X.shape[1] > 2:\n",
    "        print(f\"Cannot plot decision boundary: {X.shape[1]} features found, but only 2D plots supported.\")\n",
    "        return\n",
    "\n",
    "    # Determine grid boundaries\n",
    "    x_min, x_max = X.iloc[:, 0].min() - 1, X.iloc[:, 0].max() + 1\n",
    "    y_min, y_max = X.iloc[:, 1].min() - 1, X.iloc[:, 1].max() + 1\n",
    "    xx, yy = np.meshgrid(np.linspace(x_min, x_max, 200),\n",
    "                         np.linspace(y_min, y_max, 200))\n",
    "    \n",
    "    # Prepare grid for prediction\n",
    "    mesh_points = pd.DataFrame(np.c_[xx.ravel(), yy.ravel()], columns=X.columns[:2])\n",
    "    Z = model.predict(mesh_points)\n",
    "    Z = Z.reshape(xx.shape)\n",
    "    \n",
    "    # Plot decision boundaries and data points\n",
    "    plt.contourf(xx, yy, Z, alpha=0.3, cmap=plt.cm.coolwarm)\n",
    "    plt.scatter(X.iloc[:, 0], X.iloc[:, 1], c=y, edgecolors='k', cmap=plt.cm.coolwarm, marker='o')\n",
    "    plt.title(title)\n",
    "    plt.xlabel(X.columns[0])\n",
    "    plt.ylabel(X.columns[1])\n",
    "    plt.show()\n",
    "\n",
    "# Visualize decision boundaries for each kernel using 2D models\n",
    "for kernel, model in models_2d.items():\n",
    "    print(f\"\\nDecision Boundary for {kernel.capitalize()} Kernel:\")\n",
    "    plot_decision_boundary(model, X_train_2d, y_train, f\"SVM - {kernel.capitalize()} Kernel\")\n",
    "\n"
   ]
  },
  {
   "cell_type": "code",
   "execution_count": null,
   "metadata": {},
   "outputs": [],
   "source": [
    "# Display detailed classification report for the RBF kernel (commonly one of the best performing)\n",
    "print(\"\\nClassification Report (RBF Kernel):\\n\", classification_report(y_test, models['rbf'].predict(X_test)))"
   ]
  }
 ],
 "metadata": {
  "kernelspec": {
   "display_name": "Python 3",
   "language": "python",
   "name": "python3"
  },
  "language_info": {
   "codemirror_mode": {
    "name": "ipython",
    "version": 3
   },
   "file_extension": ".py",
   "mimetype": "text/x-python",
   "name": "python",
   "nbconvert_exporter": "python",
   "pygments_lexer": "ipython3",
   "version": "3.12.1"
  }
 },
 "nbformat": 4,
 "nbformat_minor": 2
}
